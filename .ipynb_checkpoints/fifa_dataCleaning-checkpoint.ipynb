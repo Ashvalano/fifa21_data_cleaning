{
 "cells": [
  {
   "cell_type": "code",
   "execution_count": 1,
   "id": "cec4b29b",
   "metadata": {},
   "outputs": [],
   "source": [
    "import pandas as pd"
   ]
  },
  {
   "cell_type": "markdown",
   "id": "f22b56f6",
   "metadata": {},
   "source": [
    "## Reading the data"
   ]
  },
  {
   "cell_type": "code",
   "execution_count": 200,
   "id": "caacaa90",
   "metadata": {},
   "outputs": [
    {
     "name": "stdout",
     "output_type": "stream",
     "text": [
      "<class 'pandas.core.frame.DataFrame'>\n",
      "RangeIndex: 18979 entries, 0 to 18978\n",
      "Data columns (total 77 columns):\n",
      " #   Column            Non-Null Count  Dtype \n",
      "---  ------            --------------  ----- \n",
      " 0   ID                18979 non-null  int64 \n",
      " 1   Name              18979 non-null  object\n",
      " 2   LongName          18979 non-null  object\n",
      " 3   photoUrl          18979 non-null  object\n",
      " 4   playerUrl         18979 non-null  object\n",
      " 5   Nationality       18979 non-null  object\n",
      " 6   Age               18979 non-null  int64 \n",
      " 7   ↓OVA              18979 non-null  int64 \n",
      " 8   POT               18979 non-null  int64 \n",
      " 9   Club              18979 non-null  object\n",
      " 10  Contract          18979 non-null  object\n",
      " 11  Positions         18979 non-null  object\n",
      " 12  Height            18979 non-null  object\n",
      " 13  Weight            18979 non-null  object\n",
      " 14  Preferred Foot    18979 non-null  object\n",
      " 15  BOV               18979 non-null  int64 \n",
      " 16  Best Position     18979 non-null  object\n",
      " 17  Joined            18979 non-null  object\n",
      " 18  Loan Date End     1013 non-null   object\n",
      " 19  Value             18979 non-null  object\n",
      " 20  Wage              18979 non-null  object\n",
      " 21  Release Clause    18979 non-null  object\n",
      " 22  Attacking         18979 non-null  int64 \n",
      " 23  Crossing          18979 non-null  int64 \n",
      " 24  Finishing         18979 non-null  int64 \n",
      " 25  Heading Accuracy  18979 non-null  int64 \n",
      " 26  Short Passing     18979 non-null  int64 \n",
      " 27  Volleys           18979 non-null  int64 \n",
      " 28  Skill             18979 non-null  int64 \n",
      " 29  Dribbling         18979 non-null  int64 \n",
      " 30  Curve             18979 non-null  int64 \n",
      " 31  FK Accuracy       18979 non-null  int64 \n",
      " 32  Long Passing      18979 non-null  int64 \n",
      " 33  Ball Control      18979 non-null  int64 \n",
      " 34  Movement          18979 non-null  int64 \n",
      " 35  Acceleration      18979 non-null  int64 \n",
      " 36  Sprint Speed      18979 non-null  int64 \n",
      " 37  Agility           18979 non-null  int64 \n",
      " 38  Reactions         18979 non-null  int64 \n",
      " 39  Balance           18979 non-null  int64 \n",
      " 40  Power             18979 non-null  int64 \n",
      " 41  Shot Power        18979 non-null  int64 \n",
      " 42  Jumping           18979 non-null  int64 \n",
      " 43  Stamina           18979 non-null  int64 \n",
      " 44  Strength          18979 non-null  int64 \n",
      " 45  Long Shots        18979 non-null  int64 \n",
      " 46  Mentality         18979 non-null  int64 \n",
      " 47  Aggression        18979 non-null  int64 \n",
      " 48  Interceptions     18979 non-null  int64 \n",
      " 49  Positioning       18979 non-null  int64 \n",
      " 50  Vision            18979 non-null  int64 \n",
      " 51  Penalties         18979 non-null  int64 \n",
      " 52  Composure         18979 non-null  int64 \n",
      " 53  Defending         18979 non-null  int64 \n",
      " 54  Marking           18979 non-null  int64 \n",
      " 55  Standing Tackle   18979 non-null  int64 \n",
      " 56  Sliding Tackle    18979 non-null  int64 \n",
      " 57  Goalkeeping       18979 non-null  int64 \n",
      " 58  GK Diving         18979 non-null  int64 \n",
      " 59  GK Handling       18979 non-null  int64 \n",
      " 60  GK Kicking        18979 non-null  int64 \n",
      " 61  GK Positioning    18979 non-null  int64 \n",
      " 62  GK Reflexes       18979 non-null  int64 \n",
      " 63  Total Stats       18979 non-null  int64 \n",
      " 64  Base Stats        18979 non-null  int64 \n",
      " 65  W/F               18979 non-null  object\n",
      " 66  SM                18979 non-null  object\n",
      " 67  A/W               18979 non-null  object\n",
      " 68  D/W               18979 non-null  object\n",
      " 69  IR                18979 non-null  object\n",
      " 70  PAC               18979 non-null  int64 \n",
      " 71  SHO               18979 non-null  int64 \n",
      " 72  PAS               18979 non-null  int64 \n",
      " 73  DRI               18979 non-null  int64 \n",
      " 74  DEF               18979 non-null  int64 \n",
      " 75  PHY               18979 non-null  int64 \n",
      " 76  Hits              16384 non-null  object\n",
      "dtypes: int64(54), object(23)\n",
      "memory usage: 11.1+ MB\n"
     ]
    },
    {
     "name": "stderr",
     "output_type": "stream",
     "text": [
      "C:\\Users\\jc\\AppData\\Local\\Temp\\ipykernel_4656\\3761449990.py:1: DtypeWarning: Columns (76) have mixed types. Specify dtype option on import or set low_memory=False.\n",
      "  df = pd.read_csv('fifa21 raw data v2.csv')\n"
     ]
    }
   ],
   "source": [
    "df = pd.read_csv('fifa21 raw data v2.csv')\n",
    "\n",
    "df.info()"
   ]
  },
  {
   "cell_type": "code",
   "execution_count": 3,
   "id": "57f57020",
   "metadata": {},
   "outputs": [
    {
     "data": {
      "text/html": [
       "<div>\n",
       "<style scoped>\n",
       "    .dataframe tbody tr th:only-of-type {\n",
       "        vertical-align: middle;\n",
       "    }\n",
       "\n",
       "    .dataframe tbody tr th {\n",
       "        vertical-align: top;\n",
       "    }\n",
       "\n",
       "    .dataframe thead th {\n",
       "        text-align: right;\n",
       "    }\n",
       "</style>\n",
       "<table border=\"1\" class=\"dataframe\">\n",
       "  <thead>\n",
       "    <tr style=\"text-align: right;\">\n",
       "      <th></th>\n",
       "      <th>ID</th>\n",
       "      <th>Name</th>\n",
       "      <th>LongName</th>\n",
       "      <th>photoUrl</th>\n",
       "      <th>playerUrl</th>\n",
       "      <th>Nationality</th>\n",
       "      <th>Age</th>\n",
       "      <th>↓OVA</th>\n",
       "      <th>POT</th>\n",
       "      <th>Club</th>\n",
       "      <th>...</th>\n",
       "      <th>A/W</th>\n",
       "      <th>D/W</th>\n",
       "      <th>IR</th>\n",
       "      <th>PAC</th>\n",
       "      <th>SHO</th>\n",
       "      <th>PAS</th>\n",
       "      <th>DRI</th>\n",
       "      <th>DEF</th>\n",
       "      <th>PHY</th>\n",
       "      <th>Hits</th>\n",
       "    </tr>\n",
       "  </thead>\n",
       "  <tbody>\n",
       "    <tr>\n",
       "      <th>0</th>\n",
       "      <td>158023</td>\n",
       "      <td>L. Messi</td>\n",
       "      <td>Lionel Messi</td>\n",
       "      <td>https://cdn.sofifa.com/players/158/023/21_60.png</td>\n",
       "      <td>http://sofifa.com/player/158023/lionel-messi/2...</td>\n",
       "      <td>Argentina</td>\n",
       "      <td>33</td>\n",
       "      <td>93</td>\n",
       "      <td>93</td>\n",
       "      <td>\\n\\n\\n\\nFC Barcelona</td>\n",
       "      <td>...</td>\n",
       "      <td>Medium</td>\n",
       "      <td>Low</td>\n",
       "      <td>5 ★</td>\n",
       "      <td>85</td>\n",
       "      <td>92</td>\n",
       "      <td>91</td>\n",
       "      <td>95</td>\n",
       "      <td>38</td>\n",
       "      <td>65</td>\n",
       "      <td>771</td>\n",
       "    </tr>\n",
       "    <tr>\n",
       "      <th>1</th>\n",
       "      <td>20801</td>\n",
       "      <td>Cristiano Ronaldo</td>\n",
       "      <td>C. Ronaldo dos Santos Aveiro</td>\n",
       "      <td>https://cdn.sofifa.com/players/020/801/21_60.png</td>\n",
       "      <td>http://sofifa.com/player/20801/c-ronaldo-dos-s...</td>\n",
       "      <td>Portugal</td>\n",
       "      <td>35</td>\n",
       "      <td>92</td>\n",
       "      <td>92</td>\n",
       "      <td>\\n\\n\\n\\nJuventus</td>\n",
       "      <td>...</td>\n",
       "      <td>High</td>\n",
       "      <td>Low</td>\n",
       "      <td>5 ★</td>\n",
       "      <td>89</td>\n",
       "      <td>93</td>\n",
       "      <td>81</td>\n",
       "      <td>89</td>\n",
       "      <td>35</td>\n",
       "      <td>77</td>\n",
       "      <td>562</td>\n",
       "    </tr>\n",
       "    <tr>\n",
       "      <th>2</th>\n",
       "      <td>200389</td>\n",
       "      <td>J. Oblak</td>\n",
       "      <td>Jan Oblak</td>\n",
       "      <td>https://cdn.sofifa.com/players/200/389/21_60.png</td>\n",
       "      <td>http://sofifa.com/player/200389/jan-oblak/210006/</td>\n",
       "      <td>Slovenia</td>\n",
       "      <td>27</td>\n",
       "      <td>91</td>\n",
       "      <td>93</td>\n",
       "      <td>\\n\\n\\n\\nAtlético Madrid</td>\n",
       "      <td>...</td>\n",
       "      <td>Medium</td>\n",
       "      <td>Medium</td>\n",
       "      <td>3 ★</td>\n",
       "      <td>87</td>\n",
       "      <td>92</td>\n",
       "      <td>78</td>\n",
       "      <td>90</td>\n",
       "      <td>52</td>\n",
       "      <td>90</td>\n",
       "      <td>150</td>\n",
       "    </tr>\n",
       "    <tr>\n",
       "      <th>3</th>\n",
       "      <td>192985</td>\n",
       "      <td>K. De Bruyne</td>\n",
       "      <td>Kevin De Bruyne</td>\n",
       "      <td>https://cdn.sofifa.com/players/192/985/21_60.png</td>\n",
       "      <td>http://sofifa.com/player/192985/kevin-de-bruyn...</td>\n",
       "      <td>Belgium</td>\n",
       "      <td>29</td>\n",
       "      <td>91</td>\n",
       "      <td>91</td>\n",
       "      <td>\\n\\n\\n\\nManchester City</td>\n",
       "      <td>...</td>\n",
       "      <td>High</td>\n",
       "      <td>High</td>\n",
       "      <td>4 ★</td>\n",
       "      <td>76</td>\n",
       "      <td>86</td>\n",
       "      <td>93</td>\n",
       "      <td>88</td>\n",
       "      <td>64</td>\n",
       "      <td>78</td>\n",
       "      <td>207</td>\n",
       "    </tr>\n",
       "    <tr>\n",
       "      <th>4</th>\n",
       "      <td>190871</td>\n",
       "      <td>Neymar Jr</td>\n",
       "      <td>Neymar da Silva Santos Jr.</td>\n",
       "      <td>https://cdn.sofifa.com/players/190/871/21_60.png</td>\n",
       "      <td>http://sofifa.com/player/190871/neymar-da-silv...</td>\n",
       "      <td>Brazil</td>\n",
       "      <td>28</td>\n",
       "      <td>91</td>\n",
       "      <td>91</td>\n",
       "      <td>\\n\\n\\n\\nParis Saint-Germain</td>\n",
       "      <td>...</td>\n",
       "      <td>High</td>\n",
       "      <td>Medium</td>\n",
       "      <td>5 ★</td>\n",
       "      <td>91</td>\n",
       "      <td>85</td>\n",
       "      <td>86</td>\n",
       "      <td>94</td>\n",
       "      <td>36</td>\n",
       "      <td>59</td>\n",
       "      <td>595</td>\n",
       "    </tr>\n",
       "  </tbody>\n",
       "</table>\n",
       "<p>5 rows × 77 columns</p>\n",
       "</div>"
      ],
      "text/plain": [
       "       ID               Name                      LongName  \\\n",
       "0  158023           L. Messi                  Lionel Messi   \n",
       "1   20801  Cristiano Ronaldo  C. Ronaldo dos Santos Aveiro   \n",
       "2  200389           J. Oblak                     Jan Oblak   \n",
       "3  192985       K. De Bruyne               Kevin De Bruyne   \n",
       "4  190871          Neymar Jr    Neymar da Silva Santos Jr.   \n",
       "\n",
       "                                           photoUrl  \\\n",
       "0  https://cdn.sofifa.com/players/158/023/21_60.png   \n",
       "1  https://cdn.sofifa.com/players/020/801/21_60.png   \n",
       "2  https://cdn.sofifa.com/players/200/389/21_60.png   \n",
       "3  https://cdn.sofifa.com/players/192/985/21_60.png   \n",
       "4  https://cdn.sofifa.com/players/190/871/21_60.png   \n",
       "\n",
       "                                           playerUrl Nationality  Age  ↓OVA  \\\n",
       "0  http://sofifa.com/player/158023/lionel-messi/2...   Argentina   33    93   \n",
       "1  http://sofifa.com/player/20801/c-ronaldo-dos-s...    Portugal   35    92   \n",
       "2  http://sofifa.com/player/200389/jan-oblak/210006/    Slovenia   27    91   \n",
       "3  http://sofifa.com/player/192985/kevin-de-bruyn...     Belgium   29    91   \n",
       "4  http://sofifa.com/player/190871/neymar-da-silv...      Brazil   28    91   \n",
       "\n",
       "   POT                         Club  ...     A/W     D/W   IR PAC SHO  PAS  \\\n",
       "0   93         \\n\\n\\n\\nFC Barcelona  ...  Medium     Low  5 ★  85  92   91   \n",
       "1   92             \\n\\n\\n\\nJuventus  ...    High     Low  5 ★  89  93   81   \n",
       "2   93      \\n\\n\\n\\nAtlético Madrid  ...  Medium  Medium  3 ★  87  92   78   \n",
       "3   91      \\n\\n\\n\\nManchester City  ...    High    High  4 ★  76  86   93   \n",
       "4   91  \\n\\n\\n\\nParis Saint-Germain  ...    High  Medium  5 ★  91  85   86   \n",
       "\n",
       "  DRI DEF PHY Hits  \n",
       "0  95  38  65  771  \n",
       "1  89  35  77  562  \n",
       "2  90  52  90  150  \n",
       "3  88  64  78  207  \n",
       "4  94  36  59  595  \n",
       "\n",
       "[5 rows x 77 columns]"
      ]
     },
     "execution_count": 3,
     "metadata": {},
     "output_type": "execute_result"
    }
   ],
   "source": [
    "df.head()"
   ]
  },
  {
   "cell_type": "code",
   "execution_count": 11,
   "id": "fc102f86",
   "metadata": {},
   "outputs": [
    {
     "name": "stdout",
     "output_type": "stream",
     "text": [
      "['771' '562' '150' '207' '595' '248' '246' '120' '1.6K' '130' '321' '189'\n",
      " '175' '96' '118' '216' '212' '154' '205' '202' '339' '408' '103' '332'\n",
      " '86' '173' '161' '396' '1.1K' '433' '242' '206' '177' '1.5K' '198' '459'\n",
      " '117' '119' '209' '84' '187' '165' '203' '65' '336' '126' '313' '124'\n",
      " '145' '538' '182' '101' '45' '377' '99' '194' '403' '414' '593' '374'\n",
      " '245' '3.2K' '266' '299' '309' '215' '265' '211' '112' '337' '70' '159'\n",
      " '688' '116' '63' '144' '123' '71' '224' '113' '168' '61' '89' '137' '278'\n",
      " '75' '148' '176' '197' '264' '214' '247' '402' '440' '1.7K' '2.3K' '171'\n",
      " '320' '657' '87' '259' '200' '255' '253' '196' '60' '97' '85' '169' '256'\n",
      " '132' '239' '166' '121' '109' '32' '46' '122' '48' '527' '199' '282' '51'\n",
      " '1.9K' '642' '155' '323' '288' '497' '509' '79' '49' '270' '511' '80'\n",
      " '128' '115' '156' '204' '143' '140' '152' '220' '134' '225' '94' '74'\n",
      " '135' '142' '50' '77' '40' '107' '193' '179' '34' '64' '453' '57' '81'\n",
      " '28' '78' '133' '43' '425' '88' '42' '36' '233' '376' '210' '444' '100'\n",
      " '263' '98' '29' '160' '39' '257' '6' '310' '138' '62' '293' '285' '362'\n",
      " '66' '69' '58' '21' '20' '131' '38' '406' '68' '108' '110' '93' '512'\n",
      " '443' '306' '352' '422' '585' '346' '178' '841' '76' '394' '72' '172'\n",
      " '44' '407' '230' '367' '295' '157' '243' '56' '111' '326' '679' '18' '92'\n",
      " '59' '25' '184' '53' '12' '90' '55' '73' '11' '566' '180' '83' '262' '17'\n",
      " '26' '31' '280' '359' '213' '297' '387' '480' '381' '677' '486' '8' '244'\n",
      " '129' '388' '275' '319' '2K' '52' '91' '421' '153' '27' '41' '222' '35'\n",
      " '102' '23' '30' '33' '146' '13' '19' '14' '106' '276' '568' '353' '47'\n",
      " '478' '249' '254' '369' '219' '565' '237' '227' '434' '375' '162' '605'\n",
      " '654' '3' '7' '9' '104' '114' '186' '446' '756' '22' '139' '500' '67'\n",
      " '147' '149' '16' '82' '54' '37' '15' '1.3K' '3K' '952' '5' '749' '541'\n",
      " '330' '393' '517' '770' '409' '170' '125' '283' '342' '363' '580' '105'\n",
      " '217' '24' '141' '10' '427' '158' '426' '4' '666' '181' '324' '979'\n",
      " '1.4K' '302' '751' '298' '411' '944' '2' '947' '292' '349' '621' '1'\n",
      " '2.8K' '338' '287' '261' '218' '1.8K' '240' '279' '229' '188' '315' '664'\n",
      " '613' '190' '706' '127' '462' '386' '695' '491' '167' '281' '250' '307'\n",
      " '95' '231' '174' '680' '633' '221' '348' '602' '183' '653' '195' '164'\n",
      " '151' '258' '8.4K' '343' '419' '655' '136' '399' '531' '357' '228' '385'\n",
      " '312' '340' '238' '487' '355' '499' '4.3K' '296' '515' '943' '1.2K' '903'\n",
      " '335' '191' '594' '267' '617' '516' '504' '331' '652' '410' '550' '473'\n",
      " '442' '344' '208' '1K' '2.5K' '273' '485' '826' '192' '405' '941' '477'\n",
      " '644' '303' '417' '6K' nan 11.0 2.0 1.0 31.0 3.0 10.0 9.0 17.0 7.0 4.0\n",
      " 6.0]\n"
     ]
    }
   ],
   "source": [
    "df.describe(include = 'object')\n",
    "\n",
    "# print(df['Hits'].unique())"
   ]
  },
  {
   "cell_type": "markdown",
   "id": "a4c8b742",
   "metadata": {},
   "source": [
    "## Convert Joined column to proper datetime format"
   ]
  },
  {
   "cell_type": "code",
   "execution_count": 7,
   "id": "98de44ba",
   "metadata": {},
   "outputs": [
    {
     "data": {
      "text/plain": [
       "Joined\n",
       "Jul 1, 2019     1344\n",
       "Jul 1, 2018      865\n",
       "Jan 1, 2019      682\n",
       "Jul 1, 2017      520\n",
       "Jul 1, 2020      435\n",
       "                ... \n",
       "May 17, 2018       1\n",
       "Jun 1, 2005        1\n",
       "Mar 29, 2015       1\n",
       "Feb 19, 2018       1\n",
       "Mar 6, 2018        1\n",
       "Name: count, Length: 1869, dtype: int64"
      ]
     },
     "execution_count": 7,
     "metadata": {},
     "output_type": "execute_result"
    }
   ],
   "source": [
    "df['Joined'].value_counts()"
   ]
  },
  {
   "cell_type": "code",
   "execution_count": 201,
   "id": "8934844f",
   "metadata": {},
   "outputs": [
    {
     "data": {
      "text/plain": [
       "<bound method NDFrame.head of 0       2004-07-01\n",
       "1       2018-07-10\n",
       "2       2014-07-16\n",
       "3       2015-08-30\n",
       "4       2017-08-03\n",
       "           ...    \n",
       "18974   2018-07-13\n",
       "18975   2020-08-01\n",
       "18976   2019-03-08\n",
       "18977   2020-09-22\n",
       "18978   2019-07-29\n",
       "Name: Joined, Length: 18979, dtype: datetime64[ns]>"
      ]
     },
     "execution_count": 201,
     "metadata": {},
     "output_type": "execute_result"
    }
   ],
   "source": [
    "df['Joined'] = pd.to_datetime(df['Joined'])\n",
    "\n",
    "df['Joined'].head\n",
    "\n",
    "# df['Joined'].isnull().sum()"
   ]
  },
  {
   "cell_type": "markdown",
   "id": "a69339fb",
   "metadata": {},
   "source": [
    "## Fix Height Values"
   ]
  },
  {
   "cell_type": "code",
   "execution_count": 23,
   "id": "536e8925",
   "metadata": {},
   "outputs": [
    {
     "data": {
      "text/plain": [
       "Height\n",
       "180cm    1474\n",
       "178cm    1250\n",
       "185cm    1182\n",
       "183cm    1148\n",
       "175cm    1091\n",
       "         ... \n",
       "6'5\"        1\n",
       "157cm       1\n",
       "5'4\"        1\n",
       "5'6\"        1\n",
       "155cm       1\n",
       "Name: count, Length: 62, dtype: int64"
      ]
     },
     "execution_count": 23,
     "metadata": {},
     "output_type": "execute_result"
    }
   ],
   "source": [
    "df['Height'].value_counts()\n",
    "\n",
    "# df['Height'].isnull().sum()"
   ]
  },
  {
   "cell_type": "code",
   "execution_count": 202,
   "id": "f69511d6",
   "metadata": {},
   "outputs": [
    {
     "data": {
      "text/plain": [
       "<bound method NDFrame.head of 0        170\n",
       "1        187\n",
       "2        188\n",
       "3        181\n",
       "4        175\n",
       "        ... \n",
       "18974    178\n",
       "18975    175\n",
       "18976    179\n",
       "18977    175\n",
       "18978    188\n",
       "Name: Height, Length: 18979, dtype: object>"
      ]
     },
     "execution_count": 202,
     "metadata": {},
     "output_type": "execute_result"
    }
   ],
   "source": [
    "import re\n",
    "\n",
    "def convert_to_cm(height):\n",
    "    \n",
    "#     retain cm values, findall with digit values\n",
    "    if \"cm\" in height:\n",
    "        cm = re.findall(r'\\d+', height)\n",
    "        return str(cm[0])\n",
    "    \n",
    "    feet, inches = re.findall(r'\\d+', height)\n",
    "    \n",
    "#     Convert feet and inches to cm\n",
    "    feet_to_cm = int(feet) * 30.48\n",
    "    inches_to_cm = int(inches) * 2.54\n",
    "    \n",
    "    return str(round(feet_to_cm + inches_to_cm,0))\n",
    "\n",
    "df['Height'] = df['Height'].apply(convert_to_cm)\n",
    "\n",
    "df['Height'] = df['Height'].str.replace('cm','')\n",
    "df['Height'].head"
   ]
  },
  {
   "cell_type": "code",
   "execution_count": 203,
   "id": "98e2853f",
   "metadata": {},
   "outputs": [
    {
     "name": "stdout",
     "output_type": "stream",
     "text": [
      "0    170.0\n",
      "1    187.0\n",
      "2    188.0\n",
      "3    181.0\n",
      "4    175.0\n",
      "Name: Height, dtype: float64\n",
      "0\n"
     ]
    }
   ],
   "source": [
    "df['Height'] = pd.to_numeric(df['Height'])\n",
    "\n",
    "print(df['Height'].head())\n",
    "print(df['Height'].isnull().sum())\n"
   ]
  },
  {
   "cell_type": "markdown",
   "id": "216b992d",
   "metadata": {},
   "source": [
    "## Fix Weight Values"
   ]
  },
  {
   "cell_type": "code",
   "execution_count": 86,
   "id": "9078ccf1",
   "metadata": {},
   "outputs": [
    {
     "data": {
      "text/plain": [
       "Weight\n",
       "70kg      1495\n",
       "75kg      1457\n",
       "80kg      1108\n",
       "72kg      1022\n",
       "78kg       991\n",
       "          ... \n",
       "190lbs       1\n",
       "130lbs       1\n",
       "146lbs       1\n",
       "203lbs       1\n",
       "157lbs       1\n",
       "Name: count, Length: 79, dtype: int64"
      ]
     },
     "execution_count": 86,
     "metadata": {},
     "output_type": "execute_result"
    }
   ],
   "source": [
    "# df['Weight'].isnull().sum()\n",
    "df['Weight'].value_counts()"
   ]
  },
  {
   "cell_type": "code",
   "execution_count": 204,
   "id": "dfaf0ac9",
   "metadata": {},
   "outputs": [
    {
     "data": {
      "text/plain": [
       "<bound method NDFrame.head of 0        72\n",
       "1        83\n",
       "2        87\n",
       "3        70\n",
       "4        68\n",
       "         ..\n",
       "18974    66\n",
       "18975    65\n",
       "18976    74\n",
       "18977    69\n",
       "18978    75\n",
       "Name: Weight, Length: 18979, dtype: object>"
      ]
     },
     "execution_count": 204,
     "metadata": {},
     "output_type": "execute_result"
    }
   ],
   "source": [
    "def convert_to_kg(weight):\n",
    "    if \"lbs\" in weight:\n",
    "        pounds = re.findall(r'\\d+', weight)\n",
    "        pounds = int(pounds[0])\n",
    "        kg = pounds * 0.45359237\n",
    "        return round(kg, 0)\n",
    "    else:\n",
    "        return weight\n",
    "\n",
    "df['Weight'] = df['Weight'].apply(convert_to_kg)\n",
    "\n",
    "df['Weight'] = df['Weight'].str.replace('kg','')\n",
    "df['Weight'].head"
   ]
  },
  {
   "cell_type": "code",
   "execution_count": 205,
   "id": "9034bac7",
   "metadata": {},
   "outputs": [
    {
     "name": "stdout",
     "output_type": "stream",
     "text": [
      "0    72.0\n",
      "1    83.0\n",
      "2    87.0\n",
      "3    70.0\n",
      "4    68.0\n",
      "Name: Weight, dtype: float64\n",
      "40\n"
     ]
    }
   ],
   "source": [
    "df['Weight'] = pd.to_numeric(df['Weight'])\n",
    "\n",
    "print(df['Weight'].head())\n",
    "print(df['Weight'].isnull().sum())"
   ]
  },
  {
   "cell_type": "markdown",
   "id": "72fe5f95",
   "metadata": {},
   "source": [
    "## Fix values in Club Column"
   ]
  },
  {
   "cell_type": "code",
   "execution_count": 151,
   "id": "697776c3",
   "metadata": {},
   "outputs": [
    {
     "data": {
      "text/plain": [
       "0           \\n\\n\\n\\nFC Barcelona\n",
       "1               \\n\\n\\n\\nJuventus\n",
       "2        \\n\\n\\n\\nAtlético Madrid\n",
       "3        \\n\\n\\n\\nManchester City\n",
       "4    \\n\\n\\n\\nParis Saint-Germain\n",
       "Name: Club, dtype: object"
      ]
     },
     "execution_count": 151,
     "metadata": {},
     "output_type": "execute_result"
    }
   ],
   "source": [
    "df['Club'].head()"
   ]
  },
  {
   "cell_type": "code",
   "execution_count": 206,
   "id": "ffbae2d9",
   "metadata": {},
   "outputs": [
    {
     "data": {
      "text/plain": [
       "Club\n",
       "No Club                   237\n",
       "FC Barcelona               33\n",
       "Burnley                    33\n",
       "RC Celta                   33\n",
       "Torino                     33\n",
       "                         ... \n",
       "Melbourne Victory          18\n",
       "Brisbane Roar              18\n",
       "Adelaide United            18\n",
       "Perth Glory                18\n",
       "Central Coast Mariners     18\n",
       "Name: count, Length: 682, dtype: int64"
      ]
     },
     "execution_count": 206,
     "metadata": {},
     "output_type": "execute_result"
    }
   ],
   "source": [
    "df['Club'] = df['Club'].str.replace('\\n','')\n",
    "df['Club'].value_counts()"
   ]
  },
  {
   "cell_type": "markdown",
   "id": "82ca22d3",
   "metadata": {},
   "source": [
    "## Fix Contract Values (copied i don't know how to do this)"
   ]
  },
  {
   "cell_type": "code",
   "execution_count": 207,
   "id": "61ef3e1f",
   "metadata": {},
   "outputs": [],
   "source": [
    "df['Contract'].value_counts()\n",
    "# df['Contract'].unique()\n",
    "\n",
    "\n",
    "# Function to extract year values from the contract string\n",
    "def extract_years(contract):\n",
    "    pattern = r'\\d{4}'\n",
    "    years = re.findall(pattern, contract)\n",
    "    if years:\n",
    "        return ' ~ '.join(years)\n",
    "    else:\n",
    "        return contract\n",
    "\n",
    "# Apply the cleaning function to the 'Contract' column\n",
    "df['Contract'] = df['Contract'].apply(extract_years)"
   ]
  },
  {
   "cell_type": "markdown",
   "id": "acd4c9f7",
   "metadata": {},
   "source": [
    "## Fix Value, Wage and Release Clause colums"
   ]
  },
  {
   "cell_type": "code",
   "execution_count": 70,
   "id": "4ddb76ff",
   "metadata": {},
   "outputs": [
    {
     "data": {
      "text/plain": [
       "Release Clause\n",
       "€0        1261\n",
       "€1.1M      609\n",
       "€1.2M      504\n",
       "€1.3M      443\n",
       "€1.4M      385\n",
       "          ... \n",
       "€46.4M       1\n",
       "€36.3M       1\n",
       "€39.5M       1\n",
       "€49.8M       1\n",
       "€64K         1\n",
       "Name: count, Length: 1216, dtype: int64"
      ]
     },
     "execution_count": 70,
     "metadata": {},
     "output_type": "execute_result"
    }
   ],
   "source": [
    "# df.Value.unique()\n",
    "# df.Wage.unique()\n",
    "df['Release Clause'].value_counts()"
   ]
  },
  {
   "cell_type": "code",
   "execution_count": 208,
   "id": "a245e35f",
   "metadata": {},
   "outputs": [],
   "source": [
    "def to_currency(value):\n",
    "    if value[-1] == 'M':\n",
    "        return float(value[1:-1]) *1000000\n",
    "    elif value[-1] == 'K':\n",
    "        return float(value[1:-1]) * 1000\n",
    "    else:\n",
    "        return value\n",
    "    \n",
    "# [1:-1] excludes €[0] and K[-1] or M[-1]"
   ]
  },
  {
   "cell_type": "code",
   "execution_count": 209,
   "id": "235f5d0f",
   "metadata": {},
   "outputs": [],
   "source": [
    "df['Value'] = df['Value'].apply(to_currency)\n",
    "df['Value'] = pd.to_numeric(df['Value'], errors='coerce')"
   ]
  },
  {
   "cell_type": "code",
   "execution_count": 210,
   "id": "1797812c",
   "metadata": {},
   "outputs": [],
   "source": [
    "df['Wage'] = df['Wage'].apply(to_currency)\n",
    "df['Wage'] = pd.to_numeric(df['Wage'], errors='coerce')"
   ]
  },
  {
   "cell_type": "code",
   "execution_count": 211,
   "id": "fa2feb33",
   "metadata": {},
   "outputs": [],
   "source": [
    "df['Release Clause'] = df['Release Clause'].apply(to_currency)\n",
    "df['Release Clause'] = pd.to_numeric(df['Release Clause'], errors='coerce')"
   ]
  },
  {
   "cell_type": "code",
   "execution_count": 86,
   "id": "c01f8574",
   "metadata": {},
   "outputs": [
    {
     "data": {
      "text/plain": [
       "Release Clause\n",
       "1100000.0     609\n",
       "1200000.0     504\n",
       "1300000.0     443\n",
       "1400000.0     385\n",
       "1500000.0     340\n",
       "             ... \n",
       "46400000.0      1\n",
       "36300000.0      1\n",
       "39500000.0      1\n",
       "49800000.0      1\n",
       "64000.0         1\n",
       "Name: count, Length: 1215, dtype: int64"
      ]
     },
     "execution_count": 86,
     "metadata": {},
     "output_type": "execute_result"
    }
   ],
   "source": [
    "df['Release Clause'].value_counts()\n",
    "# highest = df.nlargest(5, 'Value')['Value']\n",
    "# print(highest)"
   ]
  },
  {
   "cell_type": "markdown",
   "id": "819d241a",
   "metadata": {},
   "source": [
    "## Remove Special Characters"
   ]
  },
  {
   "cell_type": "code",
   "execution_count": 90,
   "id": "0ad9d303",
   "metadata": {},
   "outputs": [
    {
     "data": {
      "text/plain": [
       "0        4 ★\n",
       "1        4 ★\n",
       "2        3 ★\n",
       "3        5 ★\n",
       "4        5 ★\n",
       "        ... \n",
       "18974    2 ★\n",
       "18975    2 ★\n",
       "18976    2 ★\n",
       "18977    3 ★\n",
       "18978    3 ★\n",
       "Name: W/F, Length: 18979, dtype: object"
      ]
     },
     "execution_count": 90,
     "metadata": {},
     "output_type": "execute_result"
    }
   ],
   "source": [
    "df['IR']\n",
    "df['SM']\n",
    "df['W/F']"
   ]
  },
  {
   "cell_type": "code",
   "execution_count": 212,
   "id": "72113287",
   "metadata": {},
   "outputs": [
    {
     "data": {
      "text/plain": [
       "array(['4 ', '3 ', '5 ', '2 ', '1 '], dtype=object)"
      ]
     },
     "execution_count": 212,
     "metadata": {},
     "output_type": "execute_result"
    }
   ],
   "source": [
    "\n",
    "#does not work with ★ characters\n",
    "# df['SM'] = pd.to_numeric(df['SM'], errors='coerce')\n",
    "# df['SM'] = df['SM'].str.replace(r'\\D', '')\n",
    "\n",
    "df['IR'] = df['IR'].str.replace('★','')\n",
    "df['SM'] = df['SM'].str.replace('★','')\n",
    "df['W/F'] = df['W/F'].str.replace('★','')\n",
    "\n",
    "\n",
    "df['W/F'].unique()"
   ]
  },
  {
   "cell_type": "markdown",
   "id": "0e86b0f4",
   "metadata": {},
   "source": [
    "## Fix Hits column"
   ]
  },
  {
   "cell_type": "code",
   "execution_count": 213,
   "id": "cdd79009",
   "metadata": {},
   "outputs": [],
   "source": [
    "df['Hits'].value_counts()\n",
    "df['Hits'] = df['Hits'].astype(str)"
   ]
  },
  {
   "cell_type": "code",
   "execution_count": 214,
   "id": "28d8af16",
   "metadata": {},
   "outputs": [],
   "source": [
    "def hits_clean(hits):\n",
    "    if hits[-1] == 'K':\n",
    "        return float(hits[:-1]) * 1000\n",
    "    else:\n",
    "        return hits"
   ]
  },
  {
   "cell_type": "code",
   "execution_count": 215,
   "id": "41fc48a8",
   "metadata": {},
   "outputs": [],
   "source": [
    "df['Hits'] = df['Hits'].apply(hits_clean)"
   ]
  },
  {
   "cell_type": "code",
   "execution_count": 216,
   "id": "416cb72b",
   "metadata": {},
   "outputs": [
    {
     "data": {
      "text/plain": [
       "0     771.0\n",
       "1     562.0\n",
       "2     150.0\n",
       "3     207.0\n",
       "4     595.0\n",
       "5     248.0\n",
       "6     246.0\n",
       "7     120.0\n",
       "8    1600.0\n",
       "9     130.0\n",
       "Name: Hits, dtype: float64"
      ]
     },
     "execution_count": 216,
     "metadata": {},
     "output_type": "execute_result"
    }
   ],
   "source": [
    "df['Hits'] = pd.to_numeric(df['Hits'], errors = 'coerce')\n",
    "\n",
    "# test filna by mean\n",
    "# mean = df['Hits'].mean()\n",
    "# df['Hits'] = df['Hits'].fillna(mean)\n",
    "# df['Hits'].isnull().sum()\n",
    "\n",
    "df['Hits'].head(10)\n",
    "# df['Hits'].unique()"
   ]
  },
  {
   "cell_type": "markdown",
   "id": "676327b2",
   "metadata": {},
   "source": [
    "## Drop unnecessary columns, fix columns"
   ]
  },
  {
   "cell_type": "code",
   "execution_count": 217,
   "id": "82931a55",
   "metadata": {},
   "outputs": [],
   "source": [
    "df.columns\n",
    "# drop_columns = ['photoUrl', 'playerUrl']\n",
    "# df.drop(drop_columns, axis=1)\n",
    "\n",
    "retain_columns = ['ID', 'Name', 'Nationality', 'Age',\n",
    "       '↓OVA', 'POT', 'Club', 'Contract', 'Positions', 'Height', 'Weight',\n",
    "       'Preferred Foot', 'BOV', 'Best Position', 'Joined',\n",
    "       'Value', 'Wage', 'Release Clause', 'Attacking', 'Crossing', 'Finishing',\n",
    "       'Heading Accuracy', 'Short Passing', 'Volleys', 'Skill', 'Dribbling',\n",
    "       'Curve', 'FK Accuracy', 'Long Passing', 'Ball Control', 'Movement',\n",
    "       'Acceleration', 'Sprint Speed', 'Agility', 'Reactions', 'Balance',\n",
    "       'Power', 'Shot Power', 'Jumping', 'Stamina', 'Strength', 'Long Shots',\n",
    "       'Mentality', 'Aggression', 'Interceptions', 'Positioning', 'Vision',\n",
    "       'Penalties', 'Composure', 'Defending', 'Marking', 'Standing Tackle',\n",
    "       'Sliding Tackle', 'Goalkeeping', 'GK Diving', 'GK Handling',\n",
    "       'GK Kicking', 'GK Positioning', 'GK Reflexes', 'Total Stats',\n",
    "       'Base Stats', 'W/F', 'SM', 'A/W', 'D/W', 'IR', 'PAC', 'SHO', 'PAS',\n",
    "       'DRI', 'DEF', 'PHY', 'Hits']\n",
    "\n",
    "df = df[retain_columns]\n",
    "df = df.rename(columns={'↓OVA':'Overall'})\n",
    "# should rename Height(cm), Weight(kg), Value($),Wage($),Release Clause($)"
   ]
  },
  {
   "cell_type": "code",
   "execution_count": 219,
   "id": "ac7e79c1",
   "metadata": {},
   "outputs": [
    {
     "data": {
      "text/html": [
       "<div>\n",
       "<style scoped>\n",
       "    .dataframe tbody tr th:only-of-type {\n",
       "        vertical-align: middle;\n",
       "    }\n",
       "\n",
       "    .dataframe tbody tr th {\n",
       "        vertical-align: top;\n",
       "    }\n",
       "\n",
       "    .dataframe thead th {\n",
       "        text-align: right;\n",
       "    }\n",
       "</style>\n",
       "<table border=\"1\" class=\"dataframe\">\n",
       "  <thead>\n",
       "    <tr style=\"text-align: right;\">\n",
       "      <th></th>\n",
       "      <th>ID</th>\n",
       "      <th>Name</th>\n",
       "      <th>Nationality</th>\n",
       "      <th>Age</th>\n",
       "      <th>Overall</th>\n",
       "      <th>POT</th>\n",
       "      <th>Club</th>\n",
       "      <th>Contract</th>\n",
       "      <th>Positions</th>\n",
       "      <th>Height</th>\n",
       "      <th>...</th>\n",
       "      <th>A/W</th>\n",
       "      <th>D/W</th>\n",
       "      <th>IR</th>\n",
       "      <th>PAC</th>\n",
       "      <th>SHO</th>\n",
       "      <th>PAS</th>\n",
       "      <th>DRI</th>\n",
       "      <th>DEF</th>\n",
       "      <th>PHY</th>\n",
       "      <th>Hits</th>\n",
       "    </tr>\n",
       "  </thead>\n",
       "  <tbody>\n",
       "    <tr>\n",
       "      <th>0</th>\n",
       "      <td>158023</td>\n",
       "      <td>L. Messi</td>\n",
       "      <td>Argentina</td>\n",
       "      <td>33</td>\n",
       "      <td>93</td>\n",
       "      <td>93</td>\n",
       "      <td>FC Barcelona</td>\n",
       "      <td>2004 ~ 2021</td>\n",
       "      <td>RW, ST, CF</td>\n",
       "      <td>170.0</td>\n",
       "      <td>...</td>\n",
       "      <td>Medium</td>\n",
       "      <td>Low</td>\n",
       "      <td>5</td>\n",
       "      <td>85</td>\n",
       "      <td>92</td>\n",
       "      <td>91</td>\n",
       "      <td>95</td>\n",
       "      <td>38</td>\n",
       "      <td>65</td>\n",
       "      <td>771.0</td>\n",
       "    </tr>\n",
       "    <tr>\n",
       "      <th>1</th>\n",
       "      <td>20801</td>\n",
       "      <td>Cristiano Ronaldo</td>\n",
       "      <td>Portugal</td>\n",
       "      <td>35</td>\n",
       "      <td>92</td>\n",
       "      <td>92</td>\n",
       "      <td>Juventus</td>\n",
       "      <td>2018 ~ 2022</td>\n",
       "      <td>ST, LW</td>\n",
       "      <td>187.0</td>\n",
       "      <td>...</td>\n",
       "      <td>High</td>\n",
       "      <td>Low</td>\n",
       "      <td>5</td>\n",
       "      <td>89</td>\n",
       "      <td>93</td>\n",
       "      <td>81</td>\n",
       "      <td>89</td>\n",
       "      <td>35</td>\n",
       "      <td>77</td>\n",
       "      <td>562.0</td>\n",
       "    </tr>\n",
       "    <tr>\n",
       "      <th>2</th>\n",
       "      <td>200389</td>\n",
       "      <td>J. Oblak</td>\n",
       "      <td>Slovenia</td>\n",
       "      <td>27</td>\n",
       "      <td>91</td>\n",
       "      <td>93</td>\n",
       "      <td>Atlético Madrid</td>\n",
       "      <td>2014 ~ 2023</td>\n",
       "      <td>GK</td>\n",
       "      <td>188.0</td>\n",
       "      <td>...</td>\n",
       "      <td>Medium</td>\n",
       "      <td>Medium</td>\n",
       "      <td>3</td>\n",
       "      <td>87</td>\n",
       "      <td>92</td>\n",
       "      <td>78</td>\n",
       "      <td>90</td>\n",
       "      <td>52</td>\n",
       "      <td>90</td>\n",
       "      <td>150.0</td>\n",
       "    </tr>\n",
       "    <tr>\n",
       "      <th>3</th>\n",
       "      <td>192985</td>\n",
       "      <td>K. De Bruyne</td>\n",
       "      <td>Belgium</td>\n",
       "      <td>29</td>\n",
       "      <td>91</td>\n",
       "      <td>91</td>\n",
       "      <td>Manchester City</td>\n",
       "      <td>2015 ~ 2023</td>\n",
       "      <td>CAM, CM</td>\n",
       "      <td>181.0</td>\n",
       "      <td>...</td>\n",
       "      <td>High</td>\n",
       "      <td>High</td>\n",
       "      <td>4</td>\n",
       "      <td>76</td>\n",
       "      <td>86</td>\n",
       "      <td>93</td>\n",
       "      <td>88</td>\n",
       "      <td>64</td>\n",
       "      <td>78</td>\n",
       "      <td>207.0</td>\n",
       "    </tr>\n",
       "    <tr>\n",
       "      <th>4</th>\n",
       "      <td>190871</td>\n",
       "      <td>Neymar Jr</td>\n",
       "      <td>Brazil</td>\n",
       "      <td>28</td>\n",
       "      <td>91</td>\n",
       "      <td>91</td>\n",
       "      <td>Paris Saint-Germain</td>\n",
       "      <td>2017 ~ 2022</td>\n",
       "      <td>LW, CAM</td>\n",
       "      <td>175.0</td>\n",
       "      <td>...</td>\n",
       "      <td>High</td>\n",
       "      <td>Medium</td>\n",
       "      <td>5</td>\n",
       "      <td>91</td>\n",
       "      <td>85</td>\n",
       "      <td>86</td>\n",
       "      <td>94</td>\n",
       "      <td>36</td>\n",
       "      <td>59</td>\n",
       "      <td>595.0</td>\n",
       "    </tr>\n",
       "  </tbody>\n",
       "</table>\n",
       "<p>5 rows × 73 columns</p>\n",
       "</div>"
      ],
      "text/plain": [
       "       ID               Name Nationality  Age  Overall  POT  \\\n",
       "0  158023           L. Messi   Argentina   33       93   93   \n",
       "1   20801  Cristiano Ronaldo    Portugal   35       92   92   \n",
       "2  200389           J. Oblak    Slovenia   27       91   93   \n",
       "3  192985       K. De Bruyne     Belgium   29       91   91   \n",
       "4  190871          Neymar Jr      Brazil   28       91   91   \n",
       "\n",
       "                  Club     Contract   Positions  Height  ...     A/W     D/W  \\\n",
       "0         FC Barcelona  2004 ~ 2021  RW, ST, CF   170.0  ...  Medium     Low   \n",
       "1             Juventus  2018 ~ 2022      ST, LW   187.0  ...    High     Low   \n",
       "2      Atlético Madrid  2014 ~ 2023          GK   188.0  ...  Medium  Medium   \n",
       "3      Manchester City  2015 ~ 2023     CAM, CM   181.0  ...    High    High   \n",
       "4  Paris Saint-Germain  2017 ~ 2022     LW, CAM   175.0  ...    High  Medium   \n",
       "\n",
       "   IR PAC SHO  PAS  DRI  DEF  PHY   Hits  \n",
       "0  5   85  92   91   95   38   65  771.0  \n",
       "1  5   89  93   81   89   35   77  562.0  \n",
       "2  3   87  92   78   90   52   90  150.0  \n",
       "3  4   76  86   93   88   64   78  207.0  \n",
       "4  5   91  85   86   94   36   59  595.0  \n",
       "\n",
       "[5 rows x 73 columns]"
      ]
     },
     "execution_count": 219,
     "metadata": {},
     "output_type": "execute_result"
    }
   ],
   "source": [
    "df.head()"
   ]
  },
  {
   "cell_type": "markdown",
   "id": "ddc089c0",
   "metadata": {},
   "source": [
    "## Clean Dataframe"
   ]
  },
  {
   "cell_type": "code",
   "execution_count": 220,
   "id": "45248db4",
   "metadata": {},
   "outputs": [],
   "source": [
    "fifa21_clean = df\n",
    "fifa21_clean.to_csv('fifa21 clean data.csv', index=False)"
   ]
  },
  {
   "cell_type": "code",
   "execution_count": null,
   "id": "3c7af2ee",
   "metadata": {},
   "outputs": [],
   "source": []
  }
 ],
 "metadata": {
  "kernelspec": {
   "display_name": "Python 3 (ipykernel)",
   "language": "python",
   "name": "python3"
  },
  "language_info": {
   "codemirror_mode": {
    "name": "ipython",
    "version": 3
   },
   "file_extension": ".py",
   "mimetype": "text/x-python",
   "name": "python",
   "nbconvert_exporter": "python",
   "pygments_lexer": "ipython3",
   "version": "3.11.0"
  }
 },
 "nbformat": 4,
 "nbformat_minor": 5
}
